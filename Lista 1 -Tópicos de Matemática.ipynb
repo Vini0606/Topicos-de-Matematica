{
  "nbformat": 4,
  "nbformat_minor": 0,
  "metadata": {
    "colab": {
      "provenance": []
    },
    "kernelspec": {
      "name": "python3",
      "display_name": "Python 3"
    },
    "language_info": {
      "name": "python"
    }
  },
  "cells": [
    {
      "cell_type": "markdown",
      "source": [
        "#Bilbiotecas Utilizadas"
      ],
      "metadata": {
        "id": "kuvbBSHdZYa8"
      }
    },
    {
      "cell_type": "code",
      "source": [
        "import sympy as sp"
      ],
      "metadata": {
        "id": "7ZBg8YSfZcx4"
      },
      "execution_count": 2,
      "outputs": []
    },
    {
      "cell_type": "markdown",
      "source": [
        "#1) Desenvolva as seguintes expressões matemáticas:"
      ],
      "metadata": {
        "id": "s_aeYZ6_MQXK"
      }
    },
    {
      "cell_type": "markdown",
      "source": [
        "(3x+y)²"
      ],
      "metadata": {
        "id": "rl5wKFwrMVhe"
      }
    },
    {
      "cell_type": "code",
      "source": [
        "x, y = sp.symbols('x y')\n",
        "print('(3x+y)² =',sp.simplify(sp.expand((3*x + y)**2)))"
      ],
      "metadata": {
        "colab": {
          "base_uri": "https://localhost:8080/"
        },
        "id": "z6Ls0QJ0TYxb",
        "outputId": "8790e757-aa95-4e2f-b8f5-39211674c83e"
      },
      "execution_count": 11,
      "outputs": [
        {
          "output_type": "stream",
          "name": "stdout",
          "text": [
            "(3x+y)² = 9*x**2 + 6*x*y + y**2\n"
          ]
        }
      ]
    },
    {
      "cell_type": "markdown",
      "source": [
        "((1/2)+x²)²"
      ],
      "metadata": {
        "id": "nRmJWqkbNK8l"
      }
    },
    {
      "cell_type": "code",
      "source": [
        "x = sp.symbols('x')\n",
        "print('((1/2)+x²)² =',sp.simplify(sp.expand(((1/2) + x**2)**2)))"
      ],
      "metadata": {
        "colab": {
          "base_uri": "https://localhost:8080/"
        },
        "id": "73Nfu3XGarTz",
        "outputId": "ce83427c-fcaf-41e3-ac10-24bd91d937b4"
      },
      "execution_count": 12,
      "outputs": [
        {
          "output_type": "stream",
          "name": "stdout",
          "text": [
            "((1/2)+x²)² = x**4 + 1.0*x**2 + 0.25\n"
          ]
        }
      ]
    },
    {
      "cell_type": "markdown",
      "source": [
        " ((2x/3)+4y³)²"
      ],
      "metadata": {
        "id": "qfv5GrjeOHz2"
      }
    },
    {
      "cell_type": "code",
      "source": [
        "x, y = sp.symbols('x y')\n",
        "print('((2x/3)+4y³)² =',sp.simplify(sp.expand(((2*x/3) + 4*y**3)**2)))"
      ],
      "metadata": {
        "colab": {
          "base_uri": "https://localhost:8080/"
        },
        "id": "Tt8H3UZgczCe",
        "outputId": "4b38f1a7-1cdb-4116-b460-4c14a4a00387"
      },
      "execution_count": 14,
      "outputs": [
        {
          "output_type": "stream",
          "name": "stdout",
          "text": [
            "((2x/3)+4y³)² = 4*x**2/9 + 16*x*y**3/3 + 16*y**6\n"
          ]
        }
      ]
    },
    {
      "cell_type": "markdown",
      "source": [
        "(2x+3y)³\n"
      ],
      "metadata": {
        "id": "qO-ds3okOTqf"
      }
    },
    {
      "cell_type": "code",
      "source": [
        "x, y = sp.symbols('x y')\n",
        "print('(2x+3y)³ =',sp.simplify(sp.expand((2*x + 3*y)**3)))"
      ],
      "metadata": {
        "colab": {
          "base_uri": "https://localhost:8080/"
        },
        "id": "b-HUPwJ4dXsQ",
        "outputId": "e672b5af-c6d7-46df-cf45-4927ed57081a"
      },
      "execution_count": 16,
      "outputs": [
        {
          "output_type": "stream",
          "name": "stdout",
          "text": [
            "(2x+3y)³ = 8*x**3 + 36*x**2*y + 54*x*y**2 + 27*y**3\n"
          ]
        }
      ]
    },
    {
      "cell_type": "markdown",
      "source": [
        " (x⁴+(1/x²))³\n"
      ],
      "metadata": {
        "id": "LcRi7JfkOdYO"
      }
    },
    {
      "cell_type": "code",
      "source": [
        "x, y = sp.symbols('x y')\n",
        "print('(x⁴+(1/x²))³ =',sp.simplify(sp.expand((x**4 + 1/x**2)**3)))"
      ],
      "metadata": {
        "colab": {
          "base_uri": "https://localhost:8080/"
        },
        "id": "n-Ou4ivdgIdu",
        "outputId": "df28704e-0c0d-4945-8f0c-39bfccc2425d"
      },
      "execution_count": 17,
      "outputs": [
        {
          "output_type": "stream",
          "name": "stdout",
          "text": [
            "(x⁴+(1/x²))³ = x**12 + 3*x**6 + 3 + x**(-6)\n"
          ]
        }
      ]
    },
    {
      "cell_type": "markdown",
      "source": [
        "((2x/3)+(4y/5)).((2x/3)-(4y/5)\n"
      ],
      "metadata": {
        "id": "2GHdnDeGRDFQ"
      }
    },
    {
      "cell_type": "code",
      "source": [
        "x, y = sp.symbols('x y')\n",
        "print('((2x/3)+(4y/5)).((2x/3)-(4y/5) =',sp.simplify(sp.expand(((2*x/3) + (4*y/5))*((2*x/3) - (4*y/5)))))"
      ],
      "metadata": {
        "colab": {
          "base_uri": "https://localhost:8080/"
        },
        "id": "DpMHg8WpiIW4",
        "outputId": "aed10ef0-826f-4056-8819-8e3e2073aecb"
      },
      "execution_count": 18,
      "outputs": [
        {
          "output_type": "stream",
          "name": "stdout",
          "text": [
            "((2x/3)+(4y/5)).((2x/3)-(4y/5) = 4*x**2/9 - 16*y**2/25\n"
          ]
        }
      ]
    },
    {
      "cell_type": "markdown",
      "source": [
        "# 2) Efetue as multiplicações das seguintes expressões matemáticas:\n"
      ],
      "metadata": {
        "id": "2yzuqhCPRNiD"
      }
    },
    {
      "cell_type": "markdown",
      "source": [
        "(x-2)(x-3)\n"
      ],
      "metadata": {
        "id": "iVgMQqvkRbR-"
      }
    },
    {
      "cell_type": "code",
      "source": [
        "x = sp.symbols('x')\n",
        "print('(x-2)(x-3) =',sp.expand((x-2)*(x-3)))"
      ],
      "metadata": {
        "colab": {
          "base_uri": "https://localhost:8080/"
        },
        "id": "8_Hg2bRvir-s",
        "outputId": "a9e75ecc-e582-4f03-d9de-bd36690a05f3"
      },
      "execution_count": 26,
      "outputs": [
        {
          "output_type": "stream",
          "name": "stdout",
          "text": [
            "(x-2)(x-3) = x**2 - 5*x + 6\n"
          ]
        }
      ]
    },
    {
      "cell_type": "markdown",
      "source": [
        " (x+5)(x-4)"
      ],
      "metadata": {
        "id": "I11xinbERdd5"
      }
    },
    {
      "cell_type": "code",
      "source": [
        "x = sp.symbols('x')\n",
        "print('(x+5)(x-4) =',sp.expand((x+5)*(x-4)))"
      ],
      "metadata": {
        "colab": {
          "base_uri": "https://localhost:8080/"
        },
        "id": "CaKa5mgXj9NK",
        "outputId": "2af39a04-6954-4381-80d2-6ba96f14e420"
      },
      "execution_count": 28,
      "outputs": [
        {
          "output_type": "stream",
          "name": "stdout",
          "text": [
            "(x+5)(x-4) = x**2 + x - 20\n"
          ]
        }
      ]
    },
    {
      "cell_type": "markdown",
      "source": [
        "#3) Simplifique as seguintes expressões matemáticas:\n"
      ],
      "metadata": {
        "id": "SrB_-63VRefU"
      }
    },
    {
      "cell_type": "markdown",
      "source": [
        " (x+y)²–x²-y²"
      ],
      "metadata": {
        "id": "GEMwNEhsRi5t"
      }
    },
    {
      "cell_type": "code",
      "source": [
        "x, y = sp.symbols('x y')\n",
        "print('(x+y)²–x²-y² =',sp.simplify(sp.expand((x+y)**2 - x**2 - y**2)))"
      ],
      "metadata": {
        "colab": {
          "base_uri": "https://localhost:8080/"
        },
        "id": "LdER9T3LlfMq",
        "outputId": "c1efdf9f-9a05-4048-8434-8b17a62eaa2b"
      },
      "execution_count": 31,
      "outputs": [
        {
          "output_type": "stream",
          "name": "stdout",
          "text": [
            "(x+y)²–x²-y² = 2*x*y\n"
          ]
        }
      ]
    },
    {
      "cell_type": "markdown",
      "source": [
        "(x+2)(x-7)+(x-5)(x+3)"
      ],
      "metadata": {
        "id": "A-lNf6JERpcK"
      }
    },
    {
      "cell_type": "code",
      "source": [
        "x = sp.symbols('x')\n",
        "print('(x+2)(x-7)+(x-5)(x+3) =',sp.simplify(sp.expand((x+2)*(x-7) + (x-5)*(x+3))))"
      ],
      "metadata": {
        "colab": {
          "base_uri": "https://localhost:8080/"
        },
        "id": "kQfP2B43mlsH",
        "outputId": "8f091215-9733-4834-fc73-92f5cfe201c9"
      },
      "execution_count": 32,
      "outputs": [
        {
          "output_type": "stream",
          "name": "stdout",
          "text": [
            "(x+2)(x-7)+(x-5)(x+3) = 2*x**2 - 7*x - 29\n"
          ]
        }
      ]
    },
    {
      "cell_type": "markdown",
      "source": [
        " (2x-y)²-4x(x-y)"
      ],
      "metadata": {
        "id": "TMPmrjQhRtGi"
      }
    },
    {
      "cell_type": "code",
      "source": [
        "x, y = sp.symbols('x y')\n",
        "print('(2x-y)²-4x(x-y) =',sp.simplify(sp.expand((2*x - y)**2 - 4*x*(x-y))))"
      ],
      "metadata": {
        "colab": {
          "base_uri": "https://localhost:8080/"
        },
        "id": "rXDSrQK0m6Rl",
        "outputId": "9a728244-5aa4-4e56-9e40-8b7fce9a47f7"
      },
      "execution_count": 34,
      "outputs": [
        {
          "output_type": "stream",
          "name": "stdout",
          "text": [
            "(2x-y)²-4x(x-y) = y**2\n"
          ]
        }
      ]
    },
    {
      "cell_type": "markdown",
      "source": [
        "#4) Sendo p = 2 e q = -2, qual o valor numérico da expressão: (p⁻¹-q⁻¹)/((p*q)⁻¹)?"
      ],
      "metadata": {
        "id": "IoM9PvezSDVr"
      }
    },
    {
      "cell_type": "code",
      "source": [
        "p = 2\n",
        "q = -2\n",
        "print('(p⁻¹-q⁻¹)/((p*q)⁻¹) = ', (p**-1 - q**-1)/((p*q)**-1))"
      ],
      "metadata": {
        "colab": {
          "base_uri": "https://localhost:8080/"
        },
        "id": "kAyf_EDHTYB_",
        "outputId": "a4662057-504a-426f-91a8-af70b7e2a5bb"
      },
      "execution_count": 35,
      "outputs": [
        {
          "output_type": "stream",
          "name": "stdout",
          "text": [
            "(p⁻¹-q⁻¹)/((p*q)⁻¹) =  -4.0\n"
          ]
        }
      ]
    }
  ]
}